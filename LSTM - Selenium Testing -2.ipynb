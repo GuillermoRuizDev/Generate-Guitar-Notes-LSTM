{
 "cells": [
  {
   "cell_type": "markdown",
   "metadata": {},
   "source": [
    "# Başlamadan Önce Chromdriver.exe'yi [Link](http://chromedriver.storage.googleapis.com/index.html?path=75.0.3770.8/) 'ten indirmeyi unutmayın!!\n",
    "\n",
    "\n",
    "\n",
    "\n",
    "Yunus Emre Gündoğmuş - 2019 Mayıs"
   ]
  },
  {
   "cell_type": "code",
   "execution_count": null,
   "metadata": {},
   "outputs": [],
   "source": [
    "# Kütüphanelerin Yüklenmesi\n",
    "!pip install selenium\n",
    "!pip install keyboard\n",
    "!pip install pynput"
   ]
  },
  {
   "cell_type": "markdown",
   "metadata": {},
   "source": [
    "### Kütüphanelerin İçeri Import Edilmesi"
   ]
  },
  {
   "cell_type": "code",
   "execution_count": 43,
   "metadata": {},
   "outputs": [],
   "source": [
    "# Selenium\n",
    "from selenium import webdriver\n",
    "from selenium.webdriver.support.ui import Select\n",
    "from selenium.webdriver.common.keys import Keys\n",
    "\n",
    "# Keyboard and Time\n",
    "from pynput.keyboard import Key, Controller\n",
    "import datetime \n",
    "import time\n",
    "import keyboard\n",
    "import numpy as np\n",
    "import sys\n",
    "\n",
    "# Keras and LSTM\n",
    "from keras.models import Sequential\n",
    "from keras.layers import Dense\n",
    "from keras.layers import Dropout\n",
    "from keras.layers import LSTM\n",
    "from keras.callbacks import ModelCheckpoint\n",
    "from keras.utils import np_utils"
   ]
  },
  {
   "cell_type": "code",
   "execution_count": 134,
   "metadata": {},
   "outputs": [],
   "source": [
    "# Notalarımızın Dictionarysi (Apronus'taki klavyedeki tuşlara göre)\n",
    "notalar = {\"Dm#\":\"d\",\"Bm7\":\"6\",\"F7\":'\"',\"Ab\":\"w\",\"G7\":\"1\",\"C7\":\"2\",\"D7\":\"3\",\"E7\":\"4\",\"A7\":\"5\",\"B7\":\"6\",\"C#7\":\"7\",\"F#7\":\"8\",\"G#7\":\"9\",\"A#7\":\"0\",\"D#7\":\"-\",\n",
    "           \"Dm\":\"tab\",\"Em\":\"q\",\"Am\":\"w\",\"Bm\":\"e\",\"C#m\":\"r\",\"F#m\":\"t\",\"G#m\":\"y\",\"A#m\":\"u\",\"D#m\":\"ı\",\"Fm\":\"o\",\"Gm\":\"p\",\"Cm\":\"ğ\",\n",
    "           \"F\":\"capslock\",\"G\":\"a\",\"C\":\"s\",\"D\":\"d\",\"E\":\"f\",\"A\":\"g\",\"B\":\"h\",\"C#\":\"j\",\"F#\":\"k\",\"G#\":\"l\",\"A#\":\"ş\",\"D#\":\"i\"}\n",
    "\n",
    "\n",
    "# Online Gitar için Klavyede Tuşa Basma Fonksiyonu\n",
    "def Press(nota):\n",
    "    keyboard = Controller()\n",
    "    if nota == \"Dm\":\n",
    "        keyboard.press(Key.tab)\n",
    "    elif nota == \"F\":\n",
    "        keyboard.press(Key.caps_lock)\n",
    "    else:\n",
    "        keyboard.press(notalar[nota])\n",
    "        time.sleep(0.7)\n",
    "        keyboard.release(notalar[nota])\n",
    "        \n",
    "# Selenium'un Ana Fonksiyonu\n",
    "def Play(notalist):\n",
    "    #Online Gitar Sitesinin Açılması\n",
    "    driver = webdriver.Chrome('chromedriver.exe')\n",
    "    driver.get(\"https://www.apronus.com/music/onlineguitar.htm\");\n",
    "    driver.implicitly_wait(10)\n",
    "    \n",
    "    time.sleep(5)\n",
    "    # Eğer Notamız Sleep ise 0.5 Saniye bekliyoruz.\n",
    "    for i in notalist:\n",
    "        if i == \"sleep\":\n",
    "            time.sleep(0.5)\n",
    "        # Eğer Notamız New ise şarkı bitiyor.\n",
    "        elif i == \"new\":\n",
    "            break\n",
    "        else:\n",
    "            Press(i)"
   ]
  },
  {
   "cell_type": "markdown",
   "metadata": {},
   "source": [
    "### Yeni notaları üretmemizi sağlayacak random kısmı kendi verisetimizden seçebilir veya kendimiz belirleyebiliriz. Ben burada verisetinden seçmek istediğim için verisetini içeri alıyorum."
   ]
  },
  {
   "cell_type": "code",
   "execution_count": 99,
   "metadata": {},
   "outputs": [],
   "source": [
    "# Txt Dosyasının Açılması\n",
    "myfile = open(\"nirvananota.txt\",\"r\")\n",
    "data = myfile.read().split(\"\\n\")\n",
    "\n",
    "# Boşlukların temizlenmesi bütün notaların tek tek eleman olarak alınması\n",
    "clean = []\n",
    "for i in range(0,len(data)):\n",
    "    clean = clean + [x for x in data[i].split(\" \") if str(x) != '']\n",
    "\n",
    "# Karakterler için Dictionary Oluşturulması\n",
    "chars = sorted(list(set(clean)))\n",
    "char_to_int = dict((c, i) for i, c in enumerate(chars))\n",
    "n_chars = len(clean)\n",
    "n_vocab = len(chars)\n",
    "\n",
    "# Notaların birbirlerine bağlanması örneğin ;\n",
    "# E7 G E C --> E7 G E TARGET/C\n",
    "seq_length = 10\n",
    "dataX = []\n",
    "dataY = []\n",
    "for i in range(0, n_chars - seq_length, 1):\n",
    "    seq_in = clean[i:i + seq_length]\n",
    "    seq_out = clean[i + seq_length]\n",
    "    dataX.append([char_to_int[char] for char in seq_in])\n",
    "    dataY.append(char_to_int[seq_out])\n",
    "n_patterns = len(dataX)\n",
    "int_to_char = dict((i, c) for i, c in enumerate(chars))\n",
    "\n",
    "X = np.reshape(dataX, (n_patterns, seq_length, 1))\n",
    "# Normalize Etmek.\n",
    "X = X / float(n_vocab)\n",
    "# Y değişkeni için One Hot Encoding Yapıyoruz.\n",
    "y = np_utils.to_categorical(dataY)"
   ]
  },
  {
   "cell_type": "markdown",
   "metadata": {},
   "source": [
    "### Burada Zaten Eğittiğim modeli çağırıyorum. Sadece mimarisini tanıtıp, weightlerini çağırıyor ve kullanıma hazır hale getiriyorum"
   ]
  },
  {
   "cell_type": "code",
   "execution_count": 100,
   "metadata": {},
   "outputs": [],
   "source": [
    "model = Sequential()\n",
    "model.add(LSTM(512, return_sequences=True,\n",
    "                input_shape=(X.shape[1], X.shape[2])))\n",
    "model.add(Dropout(0.5))\n",
    "model.add(LSTM(512, return_sequences=True))\n",
    "model.add(Dropout(0.5))\n",
    "model.add(LSTM(512))\n",
    "model.add(Dropout(0.5))\n",
    "model.add(Dense(y.shape[1], activation='softmax'))\n",
    "model.compile(loss='categorical_crossentropy', optimizer='adam')\n",
    "\n",
    "filename = \"stacked-weights-improvement-80-0.2467.hdf5\"\n",
    "model.load_weights(filename)\n",
    "model.compile(loss='categorical_crossentropy', optimizer='adam')"
   ]
  },
  {
   "cell_type": "markdown",
   "metadata": {},
   "source": [
    "### Bu kısımda olay başlıyor. Yapılan olay şu, öncelikle başlangıç değerleri veriliyor bunlara göre predictionlar yapılarak sürekli yeni nota tahminleniyor ardından sürekli başlangıç değerleri silinerek devam ediliyor. \n",
    "\n",
    "### Örnek\n",
    "- D B7 D B7 A G F# sleep A F için bir nota tahmin edildi. Mesela buna **B7** diyelim. Ardından\n",
    "- B7 D B7 A G F# sleep A F B7 şeklinde verilip yeni tahmin alınıyor."
   ]
  },
  {
   "cell_type": "code",
   "execution_count": 153,
   "metadata": {},
   "outputs": [
    {
     "name": "stdout",
     "output_type": "stream",
     "text": [
      "Başlangıç Değerleri:\n",
      "AFB7AFB7AFB7sleep\n",
      "Çıktılarımız:\n",
      "E D B7 D B7 D B7 D B7 A G F# sleep A C F B7 sleep A C F B7 sleep A C F B7 sleep A C F B7 sleep A C F B7 sleep A C F B7 sleep A C F B7 sleep A C "
     ]
    }
   ],
   "source": [
    "yeninota = []\n",
    "start = np.random.randint(0, len(dataX)-1)\n",
    "pattern = dataX[start]\n",
    "print(\"Başlangıç Değerleri:\")\n",
    "print(''.join([int_to_char[value] for value in pattern]))\n",
    "print(\"Çıktılarımız:\")\n",
    "# generate characters\n",
    "for i in range(50):\n",
    "    x = np.reshape(pattern, (1, len(pattern), 1))\n",
    "    x = x / float(n_vocab)\n",
    "    prediction = model.predict(x, verbose=0)\n",
    "    index = np.argmax(prediction)\n",
    "    result = int_to_char[index]\n",
    "    seq_in4 = [int_to_char[value] for value in pattern]\n",
    "    sys.stdout.write(result+str(\" \"))\n",
    "    pattern.append(index)\n",
    "    yeninota.append(index)\n",
    "    pattern = pattern[1:len(pattern)]\n",
    "yeninota = yeninota[len(pattern):]"
   ]
  },
  {
   "cell_type": "markdown",
   "metadata": {},
   "source": [
    "### Başlangıç Değerlerini Kendimiz Belirleyelim."
   ]
  },
  {
   "cell_type": "code",
   "execution_count": 167,
   "metadata": {},
   "outputs": [
    {
     "name": "stdout",
     "output_type": "stream",
     "text": [
      "Başlangıç Değerleri:\n",
      "A#AmB7Bm7CA#A7AmC#7C#m\n",
      "Çıktılarımız:\n",
      "A# E7 C A# C B A# sleep C7 G F# G#7 E7 G7 E7 G7 G#7 G#7 G7 E7 G7 E7 G7 B7 G#7 E7 G7 E7 G7 B7 G#7 E7 G7 E7 G7 B7 G#7 E7 G7 E7 G7 B7 G#7 E7 G7 E7 G7 B7 G#7 E7 "
     ]
    }
   ],
   "source": [
    "yeninota = []\n",
    "pattern = [1,5,7,8,9,1,3,5,11,12]\n",
    "\n",
    "print(\"Başlangıç Değerleri:\")\n",
    "print(''.join([int_to_char[value] for value in pattern]))\n",
    "print(\"Çıktılarımız:\")\n",
    "# generate characters\n",
    "for i in range(50):\n",
    "    x = np.reshape(pattern, (1, len(pattern), 1))\n",
    "    x = x / float(n_vocab)\n",
    "    prediction = model.predict(x, verbose=0)\n",
    "    index = np.argmax(prediction)\n",
    "    result = int_to_char[index]\n",
    "    seq_in4 = [int_to_char[value] for value in pattern]\n",
    "    sys.stdout.write(result+str(\" \"))\n",
    "    pattern.append(index)\n",
    "    yeninota.append(index)\n",
    "    pattern = pattern[1:len(pattern)]\n",
    "yeninota = yeninota[len(pattern):]"
   ]
  },
  {
   "cell_type": "markdown",
   "metadata": {},
   "source": [
    "### Yeni notalar sayı halinde geldiği için geri nota şekline çeviriyoruz"
   ]
  },
  {
   "cell_type": "code",
   "execution_count": 168,
   "metadata": {},
   "outputs": [
    {
     "name": "stdout",
     "output_type": "stream",
     "text": [
      "['F#', 'G#7', 'E7', 'G7', 'E7', 'G7', 'G#7', 'G#7', 'G7', 'E7', 'G7', 'E7', 'G7', 'B7', 'G#7', 'E7', 'G7', 'E7', 'G7', 'B7', 'G#7', 'E7', 'G7', 'E7', 'G7', 'B7', 'G#7', 'E7', 'G7', 'E7', 'G7', 'B7', 'G#7', 'E7', 'G7', 'E7', 'G7', 'B7', 'G#7', 'E7']\n"
     ]
    }
   ],
   "source": [
    "yeninotalar =[]\n",
    "for i in yeninota:\n",
    "    yeninotalar.append(int_to_char[i])\n",
    "    \n",
    "print(yeninotalar)"
   ]
  },
  {
   "cell_type": "markdown",
   "metadata": {},
   "source": [
    "### Selenium'a notaları verip çaldırmaya başlıyoruz."
   ]
  },
  {
   "cell_type": "code",
   "execution_count": 169,
   "metadata": {},
   "outputs": [],
   "source": [
    "Play(yeninotalar)"
   ]
  }
 ],
 "metadata": {
  "kernelspec": {
   "display_name": "Python 3",
   "language": "python",
   "name": "python3"
  },
  "language_info": {
   "codemirror_mode": {
    "name": "ipython",
    "version": 3
   },
   "file_extension": ".py",
   "mimetype": "text/x-python",
   "name": "python",
   "nbconvert_exporter": "python",
   "pygments_lexer": "ipython3",
   "version": "3.6.4"
  }
 },
 "nbformat": 4,
 "nbformat_minor": 2
}
